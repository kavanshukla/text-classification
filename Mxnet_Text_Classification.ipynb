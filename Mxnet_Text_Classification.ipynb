{
 "cells": [
  {
   "cell_type": "markdown",
   "metadata": {},
   "source": [
    "### Import required packages"
   ]
  },
  {
   "cell_type": "code",
   "execution_count": 1,
   "metadata": {
    "colab": {},
    "colab_type": "code",
    "id": "hxUMr7sOJ1AH"
   },
   "outputs": [],
   "source": [
    "import mxnet as mx\n",
    "from mxnet import gluon, nd\n",
    "import gluonnlp as nlp\n",
    "import pandas as pd"
   ]
  },
  {
   "cell_type": "markdown",
   "metadata": {
    "colab_type": "text",
    "id": "WLHCEGhvW7yG"
   },
   "source": [
    "# Load Training and Testing Data"
   ]
  },
  {
   "cell_type": "code",
   "execution_count": 2,
   "metadata": {
    "colab": {
     "base_uri": "https://localhost:8080/",
     "height": 215
    },
    "colab_type": "code",
    "id": "B0JIOTyGWXKq",
    "outputId": "017eb571-e389-47d7-a8de-7635f5bf1849"
   },
   "outputs": [
    {
     "name": "stdout",
     "output_type": "stream",
     "text": [
      "Categories:  ['Business' 'Sci/Tech' 'Sports' 'World']\n"
     ]
    },
    {
     "data": {
      "text/html": [
       "<div>\n",
       "<style scoped>\n",
       "    .dataframe tbody tr th:only-of-type {\n",
       "        vertical-align: middle;\n",
       "    }\n",
       "\n",
       "    .dataframe tbody tr th {\n",
       "        vertical-align: top;\n",
       "    }\n",
       "\n",
       "    .dataframe thead th {\n",
       "        text-align: right;\n",
       "    }\n",
       "</style>\n",
       "<table border=\"1\" class=\"dataframe\">\n",
       "  <thead>\n",
       "    <tr style=\"text-align: right;\">\n",
       "      <th></th>\n",
       "      <th>title</th>\n",
       "      <th>description</th>\n",
       "      <th>class</th>\n",
       "    </tr>\n",
       "  </thead>\n",
       "  <tbody>\n",
       "    <tr>\n",
       "      <th>36389</th>\n",
       "      <td>Crash Gordon Put on Probation</td>\n",
       "      <td>Robby Gordon, who admitted he intentionally ca...</td>\n",
       "      <td>Sports</td>\n",
       "    </tr>\n",
       "    <tr>\n",
       "      <th>112727</th>\n",
       "      <td>Salvation Army bell ringers hushed</td>\n",
       "      <td>Maybe you #39;ve noticed already this holiday ...</td>\n",
       "      <td>Business</td>\n",
       "    </tr>\n",
       "    <tr>\n",
       "      <th>68864</th>\n",
       "      <td>EU set to decide on Oracle next week</td>\n",
       "      <td>European Commission is set to announce whether...</td>\n",
       "      <td>Sci/Tech</td>\n",
       "    </tr>\n",
       "    <tr>\n",
       "      <th>88182</th>\n",
       "      <td>Quechua 1.0: Microsoft to launch Windows in th...</td>\n",
       "      <td>AFP - Microsoft will translate its blockbuster...</td>\n",
       "      <td>Sci/Tech</td>\n",
       "    </tr>\n",
       "    <tr>\n",
       "      <th>18233</th>\n",
       "      <td>Cricket-Vaughan upbeat about one-day form</td>\n",
       "      <td>LONDON (AFP) - England captain Michael Vaughan...</td>\n",
       "      <td>Sports</td>\n",
       "    </tr>\n",
       "  </tbody>\n",
       "</table>\n",
       "</div>"
      ],
      "text/plain": [
       "                                                    title  \\\n",
       "36389                       Crash Gordon Put on Probation   \n",
       "112727                 Salvation Army bell ringers hushed   \n",
       "68864                EU set to decide on Oracle next week   \n",
       "88182   Quechua 1.0: Microsoft to launch Windows in th...   \n",
       "18233           Cricket-Vaughan upbeat about one-day form   \n",
       "\n",
       "                                              description     class  \n",
       "36389   Robby Gordon, who admitted he intentionally ca...    Sports  \n",
       "112727  Maybe you #39;ve noticed already this holiday ...  Business  \n",
       "68864   European Commission is set to announce whether...  Sci/Tech  \n",
       "88182   AFP - Microsoft will translate its blockbuster...  Sci/Tech  \n",
       "18233   LONDON (AFP) - England captain Michael Vaughan...    Sports  "
      ]
     },
     "execution_count": 2,
     "metadata": {},
     "output_type": "execute_result"
    }
   ],
   "source": [
    "train_df = pd.read_csv('data/ag_news/train.csv')\n",
    "test_df = pd.read_csv('data/ag_news/test.csv')\n",
    "\n",
    "News_Article_classes = train_df['class'].unique()\n",
    "\n",
    "print(\"Categories: \", News_Article_classes)\n",
    "\n",
    "train_df.sample(n=5, random_state=2)"
   ]
  },
  {
   "cell_type": "markdown",
   "metadata": {
    "colab_type": "text",
    "id": "1euhta1D7Kpe"
   },
   "source": [
    "### Define Tokenizer"
   ]
  },
  {
   "cell_type": "code",
   "execution_count": 3,
   "metadata": {
    "colab": {},
    "colab_type": "code",
    "id": "15F7sWnj7Hge"
   },
   "outputs": [],
   "source": [
    "tokenizer = nlp.data.SpacyTokenizer()"
   ]
  },
  {
   "cell_type": "markdown",
   "metadata": {
    "colab_type": "text",
    "id": "mHz0kHFHBmNU"
   },
   "source": [
    "# Build Vocab & choose Pretrained Embeddings/ Trained Embeddings"
   ]
  },
  {
   "cell_type": "markdown",
   "metadata": {},
   "source": [
    "We can choose to use Pretrained Embeddings such as fasttext, word2vec, glove etc. <br>\n",
    "_OR_ <br>\n",
    "We can choose to train our Word Embeddings from scratch based on the training data <br>"
   ]
  },
  {
   "cell_type": "code",
   "execution_count": 4,
   "metadata": {
    "colab": {},
    "colab_type": "code",
    "id": "MG9sYEu36s0F"
   },
   "outputs": [],
   "source": [
    "# Flag to indicate use of Pretrained Embeddings\n",
    "pretrained = False"
   ]
  },
  {
   "cell_type": "code",
   "execution_count": 5,
   "metadata": {
    "colab": {},
    "colab_type": "code",
    "id": "yrEdRuLDdkpI"
   },
   "outputs": [],
   "source": [
    "if pretrained:\n",
    "    embedding = nlp.embedding.create('fasttext', source='wiki.simple')\n",
    "    vocab = nlp.Vocab(nlp.data.Counter(embedding.idx_to_token))\n",
    "    vocab.set_embedding(embedding)\n",
    "\n",
    "    token_to_index = vocab.token_to_idx\n",
    "    vocab_size, embed_size = vocab.embedding.idx_to_vec.shape\n",
    "\n",
    "else:\n",
    "    tokenized_data = (tokenizer(text) for text in train_df['description'].values)\n",
    "    counter = nlp.data.count_tokens(nlp.data.concat_sequence(tokenized_data), to_lower=True)\n",
    "    vocab = nlp.Vocab(counter)\n",
    "\n",
    "    token_to_index = vocab.token_to_idx\n",
    "    vocab_size, embed_size = len(token_to_index), 16\n",
    "  "
   ]
  },
  {
   "cell_type": "code",
   "execution_count": 6,
   "metadata": {
    "colab": {},
    "colab_type": "code",
    "id": "WvhNTtwo3nVk"
   },
   "outputs": [
    {
     "name": "stdout",
     "output_type": "stream",
     "text": [
      "Label -> Index mapping :  {'Business': 0, 'Sci/Tech': 1, 'Sports': 2, 'World': 3}\n",
      "Index -> Label mapping :  {0: 'Business', 1: 'Sci/Tech', 2: 'Sports', 3: 'World'}\n"
     ]
    }
   ],
   "source": [
    "label_to_index = {label: num for num, label in enumerate(train_df['class'].unique())}\n",
    "print(\"Label -> Index mapping : \", label_to_index)\n",
    "index_to_label = {index:label for label, index in label_to_index.items()}\n",
    "print(\"Index -> Label mapping : \", index_to_label)"
   ]
  },
  {
   "cell_type": "markdown",
   "metadata": {
    "colab_type": "text",
    "id": "sDzBNdbL8-bn"
   },
   "source": [
    "# Preprocessing Methods"
   ]
  },
  {
   "cell_type": "markdown",
   "metadata": {},
   "source": [
    "Create and Preprocess Train & Test Datasets "
   ]
  },
  {
   "cell_type": "code",
   "execution_count": 7,
   "metadata": {
    "colab": {},
    "colab_type": "code",
    "id": "9e7OfMZcs5hn"
   },
   "outputs": [],
   "source": [
    "def clean_text(string):\n",
    "    \"\"\"\n",
    "    Tokenization/string cleaning\n",
    "    taken from https://github.com/yoonkim/CNN_sentence/blob/master/process_data.py\n",
    "    \"\"\"\n",
    "    string = re.sub(r\"[^A-Za-z0-9(),!?\\'\\`]\", \" \", string)     \n",
    "    string = re.sub(r\"\\'s\", \" \\'s\", string) \n",
    "    string = re.sub(r\"\\'ve\", \" \\'ve\", string) \n",
    "    string = re.sub(r\"n\\'t\", \" n\\'t\", string) \n",
    "    string = re.sub(r\"\\'re\", \" \\'re\", string) \n",
    "    string = re.sub(r\"\\'d\", \" \\'d\", string) \n",
    "    string = re.sub(r\"\\'ll\", \" \\'ll\", string) \n",
    "    string = re.sub(r\",\", \" , \", string) \n",
    "    string = re.sub(r\"!\", \" ! \", string) \n",
    "    string = re.sub(r\"\\(\", \" \\( \", string) \n",
    "    string = re.sub(r\"\\)\", \" \\) \", string) \n",
    "    string = re.sub(r\"\\?\", \" \\? \", string) \n",
    "    string = re.sub(r\"\\s{2,}\", \" \", string)    \n",
    "    string = string.strip().lower()\n",
    "\n",
    "    return string\n",
    "\n",
    "def tokenize_text(text):\n",
    "    \"\"\" \n",
    "    Tokenize News Article Description using SpacyTokenizer\n",
    "    :param text: list of news article descriptions\n",
    "    \"\"\"\n",
    "    _tokenized_data = tokenizer(text)\n",
    "\n",
    "    return _tokenized_data\n",
    "\n",
    "def map_words_to_index(tokenized_data):\n",
    "    \"\"\"\n",
    "    Convert Words to Indexed Token numbers\n",
    "    :param text: list of lists - of tokenized texts\n",
    "    :return: list of list of indexed numbers\n",
    "    \"\"\"\n",
    "    _indexed_data = [token_to_index.get(token, 0) for token in tokenized_data] \n",
    "\n",
    "    return _indexed_data\n",
    "\n",
    "def transform_dataset(text, label):  \n",
    "    tokenized = tokenize_text(text)\n",
    "    indexed = map_words_to_index(tokenized)\n",
    "    label = label_to_index.get(label)\n",
    "    return indexed, label"
   ]
  },
  {
   "cell_type": "markdown",
   "metadata": {},
   "source": [
    "#### Test Preprocessing"
   ]
  },
  {
   "cell_type": "code",
   "execution_count": 8,
   "metadata": {
    "colab": {
     "base_uri": "https://localhost:8080/",
     "height": 35
    },
    "colab_type": "code",
    "id": "1wUOcpGCoTmY",
    "outputId": "7fe5601e-9361-4214-cf3c-7b0b41fbfc10"
   },
   "outputs": [
    {
     "data": {
      "text/plain": [
       "([568, 44, 1723, 332, 0, 28679, 53, 0], 1)"
      ]
     },
     "execution_count": 8,
     "metadata": {},
     "output_type": "execute_result"
    }
   ],
   "source": [
    "transform_dataset('we are testing how preprocessing transforms this demo_text', 'Sci/Tech')"
   ]
  },
  {
   "cell_type": "code",
   "execution_count": 9,
   "metadata": {
    "colab": {},
    "colab_type": "code",
    "id": "OtX5u8C8lM1k"
   },
   "outputs": [],
   "source": [
    "from mxnet import nd, autograd, gluon\n",
    "from mxnet.gluon.data import ArrayDataset\n",
    "from mxnet.gluon.data import DataLoader\n",
    "\n",
    "train_dataset = ArrayDataset(train_df['description'].values, train_df['class'].values).transform(transform_dataset)\n",
    "test_dataset = ArrayDataset(test_df['description'].values, test_df['class'].values).transform(transform_dataset)\n",
    "\n",
    "train_data_lengths = [len(train_dataset[i][0]) for i in range(0, train_df.shape[0])]\n",
    "test_data_lengths = [len(test_dataset[i][0]) for i in range(0, test_df.shape[0])]"
   ]
  },
  {
   "cell_type": "markdown",
   "metadata": {
    "colab_type": "text",
    "id": "g5wofVnmAp51"
   },
   "source": [
    "# Defining Bucketing Sampler and Data Loader"
   ]
  },
  {
   "cell_type": "code",
   "execution_count": 13,
   "metadata": {
    "colab": {},
    "colab_type": "code",
    "id": "QIZi_TTsAUIi"
   },
   "outputs": [],
   "source": [
    "import multiprocessing\n",
    "\n",
    "batch_size = 128\n",
    "bucket_scheme = nlp.data.ExpWidthBucket(bucket_len_step=1.6)\n",
    "\n",
    "# Bucket Sampler\n",
    "\n",
    "train_batch_sampler = nlp.data.sampler.FixedBucketSampler(train_data_lengths,\n",
    "                                                          bucket_scheme=bucket_scheme,\n",
    "                                                          num_buckets=10,\n",
    "                                                          batch_size=batch_size,\n",
    "                                                          use_average_length=True,\n",
    "                                                          shuffle=True)\n",
    "\n",
    "test_batch_sampler = nlp.data.sampler.FixedBucketSampler(test_data_lengths,\n",
    "                                                         bucket_scheme=bucket_scheme,\n",
    "                                                         num_buckets=10,\n",
    "                                                         batch_size=batch_size,\n",
    "                                                         use_average_length=True,\n",
    "                                                         shuffle=True)\n",
    "\n",
    "pad_value = token_to_index.get('<pad>')\n",
    "batchify_fn = nlp.data.batchify.Tuple(nlp.data.batchify.Pad(axis=0, pad_val=pad_value), nlp.data.batchify.Stack())\n",
    "num_workers = max(multiprocessing.cpu_count() - 3, 1)\n",
    "\n",
    "# Data Loader\n",
    "\n",
    "train_data_loader = gluon.data.DataLoader(dataset=train_dataset,\n",
    "                                          batch_sampler=train_batch_sampler,\n",
    "                                          batchify_fn=batchify_fn,\n",
    "                                          num_workers=num_workers)\n",
    "\n",
    "test_data_loader = gluon.data.DataLoader(dataset=test_dataset,\n",
    "                                          batch_sampler=test_batch_sampler,\n",
    "                                          batchify_fn=batchify_fn)"
   ]
  },
  {
   "cell_type": "code",
   "execution_count": 12,
   "metadata": {
    "colab": {
     "base_uri": "https://localhost:8080/",
     "height": 104
    },
    "colab_type": "code",
    "id": "lr_irzw6oSKh",
    "outputId": "4c465749-42a4-4688-b845-5f7493dccc67"
   },
   "outputs": [
    {
     "name": "stdout",
     "output_type": "stream",
     "text": [
      "FixedBucketSampler:\n",
      "  sample_num=120000, batch_num=49471\n",
      "  key=[4, 6, 9, 14, 21, 33, 53, 83, 133, 212]\n",
      "  cnt=[2, 28, 136, 963, 6649, 45503, 59706, 6232, 684, 97]\n",
      "  batch_size=[42, 20, 14, 9, 6, 4, 2, 1, 1, 1]\n"
     ]
    }
   ],
   "source": [
    "print(train_batch_sampler.stats())"
   ]
  },
  {
   "cell_type": "markdown",
   "metadata": {
    "colab_type": "text",
    "id": "Oh51prKroAeA"
   },
   "source": [
    "# Build the Network Architecture"
   ]
  },
  {
   "cell_type": "code",
   "execution_count": 14,
   "metadata": {
    "colab": {
     "base_uri": "https://localhost:8080/",
     "height": 311
    },
    "colab_type": "code",
    "id": "nVPEQaDaoSww",
    "outputId": "42fc616c-1a3c-4a6a-f175-017a4c3619c7"
   },
   "outputs": [
    {
     "name": "stdout",
     "output_type": "stream",
     "text": [
      "CNNTextClassifier(\n",
      "  (embed): Embedding(83087 -> 16, float32)\n",
      "  (convmaxpool0): ConvMaxPool(\n",
      "    (conv): Conv1D(None -> 100, kernel_size=(3,), stride=(1,), padding=(1,))\n",
      "    (maxpool): GlobalMaxPool1D(size=(1,), stride=(1,), padding=(0,), ceil_mode=True)\n",
      "  )\n",
      "  (convmaxpool1): ConvMaxPool(\n",
      "    (conv): Conv1D(None -> 100, kernel_size=(4,), stride=(1,), padding=(2,))\n",
      "    (maxpool): GlobalMaxPool1D(size=(1,), stride=(1,), padding=(0,), ceil_mode=True)\n",
      "  )\n",
      "  (convmaxpool2): ConvMaxPool(\n",
      "    (conv): Conv1D(None -> 100, kernel_size=(5,), stride=(1,), padding=(2,))\n",
      "    (maxpool): GlobalMaxPool1D(size=(1,), stride=(1,), padding=(0,), ceil_mode=True)\n",
      "  )\n",
      "  (drop): Dropout(p = 0.85, axes=())\n",
      "  (out): Dense(None -> 4, linear)\n",
      ")\n"
     ]
    }
   ],
   "source": [
    "class ConvMaxPool(gluon.nn.HybridBlock):\n",
    "    \"\"\"\n",
    "    Apply 1D convolutions, relu activation and max pooling\n",
    "    \"\"\"\n",
    "\n",
    "    def __init__(self, channels, kernel_size, padding):\n",
    "        super().__init__()\n",
    "        self.conv = gluon.nn.Conv1D(channels, kernel_size, \n",
    "                                    strides=1, padding=padding,\n",
    "                                    activation='relu')\n",
    "        self.maxpool = gluon.nn.GlobalMaxPool1D()\n",
    "\n",
    "    def hybrid_forward(self, F, x, *args, **kwargs):\n",
    "        conv = self.conv(x.transpose(axes=(0, 2, 1)))\n",
    "        pool = self.maxpool(conv)\n",
    "        return pool.flatten()\n",
    "\n",
    "\n",
    "class CNNTextClassifier(gluon.nn.HybridBlock):\n",
    "    \"\"\"\n",
    "    Convolutional network with Embed -> Conv(s) -> MaxPool -> Dropout -> FC\n",
    "    \"\"\"\n",
    "\n",
    "    def __init__(self, vocab_size, embed_size, dropout, num_label, filters, num_filter):\n",
    "        super().__init__()\n",
    "        self.embed = gluon.nn.Embedding(input_dim=vocab_size, output_dim=embed_size)\n",
    "        self.stacked_conv = []\n",
    "        for f in filters:\n",
    "            conv = ConvMaxPool(channels=num_filter, kernel_size=f, padding=f // 2)\n",
    "            self.__setattr__(conv.name, conv)\n",
    "            self.stacked_conv.append(conv)\n",
    "        self.drop = gluon.nn.Dropout(rate=dropout)\n",
    "        self.out = gluon.nn.Dense(units=num_label)\n",
    "\n",
    "    def hybrid_forward(self, F, x, *args, **kwargs):\n",
    "        e = self.embed(x)\n",
    "        conv_outputs = [conv(e) for conv in self.stacked_conv]\n",
    "        h = F.concat(*conv_outputs, dim=1)\n",
    "        d = self.drop(h)\n",
    "        o = self.out(d)\n",
    "        return o\n",
    "\n",
    "      \n",
    "net = CNNTextClassifier(vocab_size, embed_size, dropout=0.85, num_label=len(label_to_index),\n",
    "                             filters=[3,4,5], num_filter=100)\n",
    "\n",
    "net.hybridize()\n",
    "\n",
    "print(net)\n"
   ]
  },
  {
   "cell_type": "markdown",
   "metadata": {
    "colab_type": "text",
    "id": "GLLNP8ixoKa0"
   },
   "source": [
    "# Train the Model"
   ]
  },
  {
   "cell_type": "code",
   "execution_count": 15,
   "metadata": {
    "colab": {
     "base_uri": "https://localhost:8080/",
     "height": 35
    },
    "colab_type": "code",
    "id": "kkXXQduC6Ykc",
    "outputId": "413749f7-a90b-4f05-c9bb-d713b5823183"
   },
   "outputs": [
    {
     "name": "stdout",
     "output_type": "stream",
     "text": [
      "cpu(0)\n"
     ]
    }
   ],
   "source": [
    "# !export MXNET_CUDNN_AUTOTUNE_DEFAULT=1 # used when ctx = mx.gpu()\n",
    "ctx = mx.cpu()\n",
    "print(ctx)"
   ]
  },
  {
   "cell_type": "markdown",
   "metadata": {},
   "source": [
    "##### Initialize weights with Xavier Initialization"
   ]
  },
  {
   "cell_type": "code",
   "execution_count": 16,
   "metadata": {
    "colab": {},
    "colab_type": "code",
    "id": "L5wKfNxMHCCl"
   },
   "outputs": [],
   "source": [
    "net.collect_params().initialize(mx.init.Xavier(magnitude=2.34), ctx=ctx, force_reinit=True)"
   ]
  },
  {
   "cell_type": "code",
   "execution_count": 17,
   "metadata": {
    "colab": {},
    "colab_type": "code",
    "id": "pIuIuPDIHWhR"
   },
   "outputs": [],
   "source": [
    "def evaluate_accuracy(data_loader, net):\n",
    "    \"\"\"\n",
    "    :param data_loader: data loader object\n",
    "    :param net: network block\n",
    "    :return: accuracy of network on given data\n",
    "    \"\"\"\n",
    "    acc = mx.metric.Accuracy()\n",
    "    for data, label in data_loader:\n",
    "        data = data.as_in_context(ctx)\n",
    "        true_label = label.as_in_context(ctx)\n",
    "        output = net(data)\n",
    "        \n",
    "        predicted_label = nd.argmax(output, axis=1)\n",
    "        acc.update(preds=predicted_label, labels=true_label)\n",
    "    return acc.get()[1]"
   ]
  },
  {
   "cell_type": "code",
   "execution_count": 18,
   "metadata": {
    "colab": {
     "base_uri": "https://localhost:8080/",
     "height": 1029
    },
    "colab_type": "code",
    "id": "fWpdmhVJj2tF",
    "outputId": "32507952-14ba-470d-dc6e-0740ac3c97fe"
   },
   "outputs": [
    {
     "name": "stdout",
     "output_type": "stream",
     "text": [
      "Epoch0: Average Train Loss: 0.6318 Train Acc: 0.8847 Validation Acc: 0.865 Epoch Time: 132.61098194122314\n",
      "Epoch1: Average Train Loss: 0.3939 Train Acc: 0.9111 Validation Acc: 0.8713 Epoch Time: 139.58497524261475\n",
      "Epoch2: Average Train Loss: 0.3311 Train Acc: 0.9251 Validation Acc: 0.8736 Epoch Time: 127.21225786209106\n"
     ]
    }
   ],
   "source": [
    "import time\n",
    "\n",
    "if pretrained:\n",
    "    # Freeze weights of pretrained embeddings\n",
    "    net.embed.weight.set_data(vocab.embedding.idx_to_vec.as_in_context(ctx))\n",
    "    net.embed.collect_params().setattr('grad_req', 'null')\n",
    "\n",
    "trainer = gluon.Trainer(params=net.collect_params(),\n",
    "                          optimizer='adam',\n",
    "                          optimizer_params={'learning_rate': 0.001})\n",
    "\n",
    "sm_loss = gluon.loss.SoftmaxCrossEntropyLoss()\n",
    "\n",
    "epochs = 3\n",
    "for e in range(epochs):\n",
    "    start = time.time()\n",
    "    epoch_loss = 0\n",
    "    weight_updates = 0\n",
    "    \n",
    "    for data, label in train_data_loader:\n",
    "        data = data.as_in_context(ctx)\n",
    "        label = label.as_in_context(ctx)\n",
    "        with autograd.record():\n",
    "            pred = net(data)\n",
    "            loss = sm_loss(pred, label)\n",
    "        loss.backward()\n",
    "        trainer.step(data.shape[0])\n",
    "        epoch_loss += nd.mean(loss).asscalar()\n",
    "        weight_updates += 1\n",
    "    \n",
    "    train_metrics = evaluate_accuracy(train_data_loader, net)\n",
    "\n",
    "    if test_df.shape[0] == 0:\n",
    "        test_metrics = 0.0\n",
    "    else:\n",
    "        test_metrics = evaluate_accuracy(test_data_loader, net)\n",
    "    \n",
    "    print(\"Epoch{}: Average Train Loss: {:.4} Train Acc: {:.4} Validation Acc: {:.4} Epoch Time: {}\".\n",
    "               format(e, epoch_loss / weight_updates, train_metrics, test_metrics, time.time() - start))"
   ]
  },
  {
   "cell_type": "markdown",
   "metadata": {
    "colab_type": "text",
    "id": "e6ucbjNgoN9z"
   },
   "source": [
    "# Testing Predictions"
   ]
  },
  {
   "cell_type": "code",
   "execution_count": 27,
   "metadata": {
    "colab": {},
    "colab_type": "code",
    "id": "C7_IVKXwSiof"
   },
   "outputs": [
    {
     "name": "stdout",
     "output_type": "stream",
     "text": [
      "Canada has defended its decision to buy second-hand submarines after a crewman died from injuries sustained on one of the vessels that had broken down.\n"
     ]
    },
    {
     "data": {
      "text/html": [
       "<h5> True Category: World <h5>"
      ],
      "text/plain": [
       "<IPython.core.display.HTML object>"
      ]
     },
     "metadata": {},
     "output_type": "display_data"
    },
    {
     "data": {
      "text/html": [
       "<h5> Predicted Category: World\n",
       " <h5>"
      ],
      "text/plain": [
       "<IPython.core.display.HTML object>"
      ]
     },
     "metadata": {},
     "output_type": "display_data"
    },
    {
     "data": {
      "text/html": [
       "<h4> ✅ Correct </h4>"
      ],
      "text/plain": [
       "<IPython.core.display.HTML object>"
      ]
     },
     "metadata": {},
     "output_type": "display_data"
    },
    {
     "data": {
      "text/html": [
       "<hr>"
      ],
      "text/plain": [
       "<IPython.core.display.HTML object>"
      ]
     },
     "metadata": {},
     "output_type": "display_data"
    },
    {
     "name": "stdout",
     "output_type": "stream",
     "text": [
      "Ralf Schumacher is adamant memories of his horror crash at Indianapolis three months ago will not hamper his comeback in this weekends Chinese Grand Prix.\n"
     ]
    },
    {
     "data": {
      "text/html": [
       "<h5> True Category: Sports <h5>"
      ],
      "text/plain": [
       "<IPython.core.display.HTML object>"
      ]
     },
     "metadata": {},
     "output_type": "display_data"
    },
    {
     "data": {
      "text/html": [
       "<h5> Predicted Category: Sports\n",
       " <h5>"
      ],
      "text/plain": [
       "<IPython.core.display.HTML object>"
      ]
     },
     "metadata": {},
     "output_type": "display_data"
    },
    {
     "data": {
      "text/html": [
       "<h4> ✅ Correct </h4>"
      ],
      "text/plain": [
       "<IPython.core.display.HTML object>"
      ]
     },
     "metadata": {},
     "output_type": "display_data"
    },
    {
     "data": {
      "text/html": [
       "<hr>"
      ],
      "text/plain": [
       "<IPython.core.display.HTML object>"
      ]
     },
     "metadata": {},
     "output_type": "display_data"
    },
    {
     "name": "stdout",
     "output_type": "stream",
     "text": [
      "OKLAHOMA CITY - Former child star Macaulay Culkin was arrested on drug charges Friday during a traffic stop, authorities said. The 24-year-old actor, best known for his role in the \"Home Alone\" movies, was taken into custody on complaints of possession of a controlled dangerous substance without a valid prescription and possession of marijuana, according to the Oklahoma County Sheriff's office...\n"
     ]
    },
    {
     "data": {
      "text/html": [
       "<h5> True Category: World <h5>"
      ],
      "text/plain": [
       "<IPython.core.display.HTML object>"
      ]
     },
     "metadata": {},
     "output_type": "display_data"
    },
    {
     "data": {
      "text/html": [
       "<h5> Predicted Category: World\n",
       " <h5>"
      ],
      "text/plain": [
       "<IPython.core.display.HTML object>"
      ]
     },
     "metadata": {},
     "output_type": "display_data"
    },
    {
     "data": {
      "text/html": [
       "<h4> ✅ Correct </h4>"
      ],
      "text/plain": [
       "<IPython.core.display.HTML object>"
      ]
     },
     "metadata": {},
     "output_type": "display_data"
    },
    {
     "data": {
      "text/html": [
       "<hr>"
      ],
      "text/plain": [
       "<IPython.core.display.HTML object>"
      ]
     },
     "metadata": {},
     "output_type": "display_data"
    },
    {
     "name": "stdout",
     "output_type": "stream",
     "text": [
      "Federal prosecutors announced on Wednesday that they had cracked a global cartel that had illegally fixed prices of memory chips in personal computers and servers for \n"
     ]
    },
    {
     "data": {
      "text/html": [
       "<h5> True Category: Business <h5>"
      ],
      "text/plain": [
       "<IPython.core.display.HTML object>"
      ]
     },
     "metadata": {},
     "output_type": "display_data"
    },
    {
     "data": {
      "text/html": [
       "<h5> Predicted Category: Sci/Tech\n",
       " <h5>"
      ],
      "text/plain": [
       "<IPython.core.display.HTML object>"
      ]
     },
     "metadata": {},
     "output_type": "display_data"
    },
    {
     "data": {
      "text/html": [
       "<h4> ❌ Incorrect : Sci/Tech</h5>"
      ],
      "text/plain": [
       "<IPython.core.display.HTML object>"
      ]
     },
     "metadata": {},
     "output_type": "display_data"
    },
    {
     "data": {
      "text/html": [
       "<hr>"
      ],
      "text/plain": [
       "<IPython.core.display.HTML object>"
      ]
     },
     "metadata": {},
     "output_type": "display_data"
    },
    {
     "name": "stdout",
     "output_type": "stream",
     "text": [
      "Halfway around the world, standing virtually in the middle of the Pacific Ocean, the incomparable Timmy Chang is just days away from throwing his first pass of the season. From my tattered sofa, I will be watching him. I want you to watch him, too.\n"
     ]
    },
    {
     "data": {
      "text/html": [
       "<h5> True Category: Sports <h5>"
      ],
      "text/plain": [
       "<IPython.core.display.HTML object>"
      ]
     },
     "metadata": {},
     "output_type": "display_data"
    },
    {
     "data": {
      "text/html": [
       "<h5> Predicted Category: Sports\n",
       " <h5>"
      ],
      "text/plain": [
       "<IPython.core.display.HTML object>"
      ]
     },
     "metadata": {},
     "output_type": "display_data"
    },
    {
     "data": {
      "text/html": [
       "<h4> ✅ Correct </h4>"
      ],
      "text/plain": [
       "<IPython.core.display.HTML object>"
      ]
     },
     "metadata": {},
     "output_type": "display_data"
    },
    {
     "data": {
      "text/html": [
       "<hr>"
      ],
      "text/plain": [
       "<IPython.core.display.HTML object>"
      ]
     },
     "metadata": {},
     "output_type": "display_data"
    },
    {
     "name": "stdout",
     "output_type": "stream",
     "text": [
      "Premier Yu Shyi-Kun hopes economic ties to the mainland will guarantee peace. If not,  quot;Taiwan has to have to ability to defend itself quot;.\n"
     ]
    },
    {
     "data": {
      "text/html": [
       "<h5> True Category: World <h5>"
      ],
      "text/plain": [
       "<IPython.core.display.HTML object>"
      ]
     },
     "metadata": {},
     "output_type": "display_data"
    },
    {
     "data": {
      "text/html": [
       "<h5> Predicted Category: World\n",
       " <h5>"
      ],
      "text/plain": [
       "<IPython.core.display.HTML object>"
      ]
     },
     "metadata": {},
     "output_type": "display_data"
    },
    {
     "data": {
      "text/html": [
       "<h4> ✅ Correct </h4>"
      ],
      "text/plain": [
       "<IPython.core.display.HTML object>"
      ]
     },
     "metadata": {},
     "output_type": "display_data"
    },
    {
     "data": {
      "text/html": [
       "<hr>"
      ],
      "text/plain": [
       "<IPython.core.display.HTML object>"
      ]
     },
     "metadata": {},
     "output_type": "display_data"
    },
    {
     "name": "stdout",
     "output_type": "stream",
     "text": [
      "Schools across Portugal turn away pupils because of a teachers' assignment mix up on the first day of classes.\n"
     ]
    },
    {
     "data": {
      "text/html": [
       "<h5> True Category: World <h5>"
      ],
      "text/plain": [
       "<IPython.core.display.HTML object>"
      ]
     },
     "metadata": {},
     "output_type": "display_data"
    },
    {
     "data": {
      "text/html": [
       "<h5> Predicted Category: World\n",
       " <h5>"
      ],
      "text/plain": [
       "<IPython.core.display.HTML object>"
      ]
     },
     "metadata": {},
     "output_type": "display_data"
    },
    {
     "data": {
      "text/html": [
       "<h4> ✅ Correct </h4>"
      ],
      "text/plain": [
       "<IPython.core.display.HTML object>"
      ]
     },
     "metadata": {},
     "output_type": "display_data"
    },
    {
     "data": {
      "text/html": [
       "<hr>"
      ],
      "text/plain": [
       "<IPython.core.display.HTML object>"
      ]
     },
     "metadata": {},
     "output_type": "display_data"
    },
    {
     "name": "stdout",
     "output_type": "stream",
     "text": [
      "Southwest Airlines said on Friday it will bid at least USD\\$100 million for assets of bankrupt ATA Airlines, including taking over six of ATA #39;s 14 gates at Chicago #39;s Midway Airport and selling tickets on some of each other #39;s flights.\n"
     ]
    },
    {
     "data": {
      "text/html": [
       "<h5> True Category: Business <h5>"
      ],
      "text/plain": [
       "<IPython.core.display.HTML object>"
      ]
     },
     "metadata": {},
     "output_type": "display_data"
    },
    {
     "data": {
      "text/html": [
       "<h5> Predicted Category: Business\n",
       " <h5>"
      ],
      "text/plain": [
       "<IPython.core.display.HTML object>"
      ]
     },
     "metadata": {},
     "output_type": "display_data"
    },
    {
     "data": {
      "text/html": [
       "<h4> ✅ Correct </h4>"
      ],
      "text/plain": [
       "<IPython.core.display.HTML object>"
      ]
     },
     "metadata": {},
     "output_type": "display_data"
    },
    {
     "data": {
      "text/html": [
       "<hr>"
      ],
      "text/plain": [
       "<IPython.core.display.HTML object>"
      ]
     },
     "metadata": {},
     "output_type": "display_data"
    }
   ],
   "source": [
    "from IPython.display import display, HTML\n",
    "import random\n",
    "import numpy as np\n",
    "import re\n",
    "\n",
    "total_test_examples = 8\n",
    "\n",
    "for i in range(total_test_examples):\n",
    "    \n",
    "    # Picking random sample to test\n",
    "    random_sample_index = random.randint(1, len(test_df))\n",
    "    \n",
    "    description = test_df['description'][random_sample_index]\n",
    "    label = test_df['class'][random_sample_index]\n",
    "    \n",
    "    print(description)\n",
    "    display(HTML('<h5> True Category: {} <h5>'.format(label)))\n",
    "\n",
    "    # Apply Preprocessing before feeding for prediction : clean_text -> tokenize -> map_words\n",
    "    preprocessed = nd.array([map_words_to_index(tokenize_text(clean_text(description)))], ctx=ctx)\n",
    "    \n",
    "    # Predict\n",
    "    output = net(preprocessed)\n",
    "\n",
    "    predicted = np.argmax(output[0].asnumpy())\n",
    "    predicted_label = index_to_label.get(predicted)\n",
    "    \n",
    "    display(HTML('<h5> Predicted Category: {}\\n <h5>'.format(predicted_label)))\n",
    "    \n",
    "    # Evaluate\n",
    "    if predicted_label == label:\n",
    "          display(HTML('<h4> ✅ Correct </h4>'))\n",
    "    else:\n",
    "          display(HTML('<h4> ❌ Incorrect : {}</h5>'.format(predicted_label)))\n",
    "    \n",
    "    display(HTML('<hr>'))"
   ]
  },
  {
   "cell_type": "code",
   "execution_count": null,
   "metadata": {},
   "outputs": [],
   "source": []
  }
 ],
 "metadata": {
  "accelerator": "GPU",
  "colab": {
   "collapsed_sections": [],
   "name": "Mxnet - Text Classification.ipynb",
   "provenance": [],
   "version": "0.3.2"
  },
  "kernelspec": {
   "display_name": "Python 3",
   "language": "python",
   "name": "python3"
  },
  "language_info": {
   "codemirror_mode": {
    "name": "ipython",
    "version": 3
   },
   "file_extension": ".py",
   "mimetype": "text/x-python",
   "name": "python",
   "nbconvert_exporter": "python",
   "pygments_lexer": "ipython3",
   "version": "3.6.7"
  }
 },
 "nbformat": 4,
 "nbformat_minor": 2
}
